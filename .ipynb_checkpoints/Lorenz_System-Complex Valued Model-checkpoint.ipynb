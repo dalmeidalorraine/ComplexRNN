{
 "cells": [
  {
   "cell_type": "code",
   "execution_count": 3,
   "metadata": {},
   "outputs": [],
   "source": [
    "# Plot of the Lorenz Attractor based on Edward Lorenz's 1963 \"Deterministic\n",
    "# Nonperiodic Flow\" publication.\n",
    "# http://journals.ametsoc.org/doi/abs/10.1175/1520-0469%281963%29020%3C0130%3ADNF%3E2.0.CO%3B2\n",
    "#\n",
    "from __future__ import division, print_function, absolute_import\n",
    "import numpy as np\n",
    "from scipy.integrate import odeint\n",
    "\n",
    "import tensorflow as tf\n",
    "import tflearn\n",
    "import math\n",
    "import matplotlib\n",
    "matplotlib.use('Agg')\n",
    "import matplotlib.pyplot as plt\n",
    "from mpl_toolkits.mplot3d import Axes3D\n",
    "import matplotlib.gridspec as gridspec"
   ]
  },
  {
   "cell_type": "markdown",
   "metadata": {},
   "source": [
    "## Lorenz System\n",
    "\\begin{align}\n",
    "\\dot{x} & = \\sigma(y-x) \\\\\n",
    "\\dot{y} & = \\rho x - y - xz \\\\\n",
    "\\dot{z} & = -\\beta z + xy\n",
    "\\end{align}\n",
    "\n",
    "Lorenz Attractor model is used to get simulated real-time vibration sensor data in a bearing"
   ]
  },
  {
   "cell_type": "code",
   "execution_count": 4,
   "metadata": {},
   "outputs": [],
   "source": [
    "def colorline3d(ax, x, y, z, cmap):\n",
    "    N = len(x)\n",
    "    skip = int(0.01*N)\n",
    "    for i in range(0,N,skip):\n",
    "        ax.plot(x[i:i+skip+1], y[i:i+skip+1], z[i:i+skip+1], color=cmap(int(255*i/N)))\n",
    "\n",
    "    \n",
    "# function that returns dx/dt\n",
    "def f(x,t): # x is 3 x 1\n",
    "    sigma = 10.0\n",
    "    beta = 8.0/3.0\n",
    "    rho = 28.0\n",
    "        \n",
    "    f1 = sigma*(x[1]-x[0])\n",
    "    f2 = x[0]*(rho-x[2])-x[1]\n",
    "    f3 = x[0]*x[1]-beta*x[2]\n",
    "    f = np.array([f1,f2,f3])\n",
    "    return f\n",
    "\n",
    "def simulate(t_star, x0, noise):\n",
    "    # solve ODE\n",
    "    X_star = odeint(f, x0, t_star)\n",
    "\n",
    "    skip = 1\n",
    "    dt = t_star[skip] - t_star[0]\n",
    "    _data_sim = X_star[0::skip,:]\n",
    "    _data_sim = _data_sim + noise*_data_sim.std(0)*np.random.randn(_data_sim.shape[0], _data_sim.shape[1])\n",
    "    _data_sim = np.reshape(_data_sim, (_data_sim.shape[0],_data_sim.shape[1]))\n",
    "    return _data_sim\n",
    "\n",
    "# time points\n",
    "time_points = np.arange(0,25,0.01)\n",
    "    \n",
    "# initial condition\n",
    "x0 = np.array([-8.0, 7.0, 27])\n",
    "\n",
    "_data_train = simulate(time_points, x0, 0)\n",
    "_data_noise = simulate(time_points, x0, 0.3)\n"
   ]
  },
  {
   "cell_type": "markdown",
   "metadata": {},
   "source": [
    "## Visually inspect the data"
   ]
  },
  {
   "cell_type": "code",
   "execution_count": 5,
   "metadata": {},
   "outputs": [
    {
     "data": {
      "text/plain": [
       "Text(0.5,0.92,'Noisy Data')"
      ]
     },
     "execution_count": 5,
     "metadata": {},
     "output_type": "execute_result"
    }
   ],
   "source": [
    "####### Plotting ################## \n",
    "fig = plt.figure(figsize=(12, 8))\n",
    "ax = fig.gca(projection='3d')\n",
    "ax.axis('off')\n",
    "    \n",
    "gs0 = gridspec.GridSpec(1, 2)\n",
    "gs0.update(top=0.95, bottom=0.1, left=0.0, right=0.90, wspace=0.15)\n",
    "    \n",
    "ax = plt.subplot(gs0[:, 0:1], projection='3d')\n",
    "ax.w_xaxis.set_pane_color((1.0, 1.0, 1.0, 1.0))\n",
    "ax.w_yaxis.set_pane_color((1.0, 1.0, 1.0, 1.0))\n",
    "ax.w_zaxis.set_pane_color((1.0, 1.0, 1.0, 1.0))\n",
    "colorline3d(ax, _data_train[:,0], _data_train[:,1], _data_train[:,2], cmap = plt.cm.ocean)\n",
    "ax.grid(False)\n",
    "ax.set_xlim([-20,20])\n",
    "ax.set_ylim([-50,50])\n",
    "ax.set_zlim([0,50])\n",
    "ax.set_xticks([-20,0,20])\n",
    "ax.set_yticks([-40,0,40])\n",
    "ax.set_zticks([0,25,50])\n",
    "ax.set_xlabel('$x$')\n",
    "ax.set_ylabel('$y$')\n",
    "ax.set_zlabel('$z$')\n",
    "ax.set_title('Exact Dynamics', fontsize = 10)\n",
    "\n",
    "ax = plt.subplot(gs0[:, 1:2], projection='3d')\n",
    "ax.w_xaxis.set_pane_color((1.0, 1.0, 1.0, 1.0))\n",
    "ax.w_yaxis.set_pane_color((1.0, 1.0, 1.0, 1.0))\n",
    "ax.w_zaxis.set_pane_color((1.0, 1.0, 1.0, 1.0))    \n",
    "colorline3d(ax, _data_noise[:,0], _data_noise[:,1], _data_noise[:,2], cmap = plt.cm.ocean)\n",
    "ax.grid(False)\n",
    "ax.set_xlim([-20,20])\n",
    "ax.set_ylim([-50,50])\n",
    "ax.set_zlim([0,50])\n",
    "ax.set_xticks([-20,0,20])\n",
    "ax.set_yticks([-40,0,40])\n",
    "ax.set_zticks([0,25,50])\n",
    "ax.set_xlabel('$x$')\n",
    "ax.set_ylabel('$y$')\n",
    "ax.set_zlabel('$z$')\n",
    "ax.set_title('Noisy Data', fontsize = 10)"
   ]
  },
  {
   "cell_type": "code",
   "execution_count": 6,
   "metadata": {},
   "outputs": [
    {
     "name": "stderr",
     "output_type": "stream",
     "text": [
      "Using TensorFlow backend.\n"
     ]
    }
   ],
   "source": [
    "import sklearn\n",
    "from  sklearn.preprocessing import MinMaxScaler\n",
    "from sklearn.preprocessing import MinMaxScaler\n",
    "from sklearn.preprocessing import LabelEncoder\n",
    "from sklearn.metrics import mean_squared_error\n",
    "from keras.models import Sequential\n",
    "from keras.layers import Dense\n",
    "from keras.layers import LSTM\n",
    "from keras.layers import Dropout\n",
    "from keras.callbacks import Callback\n",
    "from keras.models import Sequential\n",
    "from keras.layers import LSTM, Dense, Activation, SimpleRNN\n",
    "import pickle"
   ]
  },
  {
   "cell_type": "markdown",
   "metadata": {},
   "source": [
    "While this system oscillates between two semi-stable states, it is hard to identify any regular patterns"
   ]
  },
  {
   "cell_type": "code",
   "execution_count": 7,
   "metadata": {},
   "outputs": [
    {
     "data": {
      "text/plain": [
       "[<matplotlib.lines.Line2D at 0x129fbf048>]"
      ]
     },
     "execution_count": 7,
     "metadata": {},
     "output_type": "execute_result"
    }
   ],
   "source": [
    "fig, ax = plt.subplots(num=None, figsize=(14, 6), dpi=80, facecolor='w', edgecolor='k')\n",
    "size = len(_data_train)\n",
    "#ax.set_ylim(0,energy.max())\n",
    "ax.plot(range(0,size), _data_train[:,0], '-', color='blue', animated = True, linewidth=1)\n",
    "ax.plot(range(0,size), _data_train[:,1], '-', color='red', animated = True, linewidth=1)\n",
    "ax.plot(range(0,size), _data_train[:,2], '-', color='green', animated = True, linewidth=1)"
   ]
  },
  {
   "cell_type": "markdown",
   "metadata": {},
   "source": [
    "### Obtain complex values"
   ]
  },
  {
   "cell_type": "code",
   "execution_count": 8,
   "metadata": {},
   "outputs": [],
   "source": [
    "_complex_data_train = _data_train*np.exp(1j*np.sin(0.01))"
   ]
  },
  {
   "cell_type": "code",
   "execution_count": 9,
   "metadata": {},
   "outputs": [
    {
     "data": {
      "text/plain": [
       "array([[-7.99960002-0.07999733j,  6.99965001+0.06999767j,\n",
       "        26.99865006+0.269991j  ],\n",
       "       [-6.58069359-0.06580803j,  6.81440445+0.06814518j,\n",
       "        25.79185947+0.25792289j],\n",
       "       [-5.31686435-0.05316953j,  6.58507876+0.06585189j,\n",
       "        24.72053031+0.24720942j],\n",
       "       ...,\n",
       "       [ 0.24065962+0.00240664j,  0.27009006+0.00270095j,\n",
       "        13.95293353+0.13953166j],\n",
       "       [ 0.24498264+0.00244987j,  0.30175524+0.0030176j ,\n",
       "        13.58645711+0.13586684j],\n",
       "       [ 0.25197138+0.00251976j,  0.33480204+0.00334808j,\n",
       "        13.22971952+0.1322994j ]])"
      ]
     },
     "execution_count": 9,
     "metadata": {},
     "output_type": "execute_result"
    }
   ],
   "source": [
    "_complex_data_train"
   ]
  },
  {
   "cell_type": "markdown",
   "metadata": {},
   "source": [
    "### Phase shifted signal for Complex valued signal"
   ]
  },
  {
   "cell_type": "code",
   "execution_count": 10,
   "metadata": {},
   "outputs": [
    {
     "name": "stdout",
     "output_type": "stream",
     "text": [
      "(2500, 3)\n"
     ]
    }
   ],
   "source": [
    "samples=2500\n",
    "sample_interval=0.01\n",
    "#signal_spectrum = np.fft.fftshift(np.fft.fft(_data_train))\n",
    "#freqs = np.fft.fftshift(np.fft.fftfreq(samples, d=sample_interval))\n",
    "signal_spectrum = np.fft.fft(_data_train)\n",
    "print(signal_spectrum.shape)\n",
    "freqs = np.fft.fftfreq(samples, d=sample_interval)\n",
    "#data_noise_fft = np.fft.fftshift(np.fft.fft(_data_noise))"
   ]
  },
  {
   "cell_type": "markdown",
   "metadata": {},
   "source": [
    "### Magnitude spectrum"
   ]
  },
  {
   "cell_type": "code",
   "execution_count": 11,
   "metadata": {},
   "outputs": [
    {
     "data": {
      "text/plain": [
       "[<matplotlib.lines.Line2D at 0x129ff39e8>]"
      ]
     },
     "execution_count": 11,
     "metadata": {},
     "output_type": "execute_result"
    }
   ],
   "source": [
    "fig, ax = plt.subplots(num=None, figsize=(14, 6), dpi=80, facecolor='w', edgecolor='k')\n",
    "# in kHz\n",
    "ax.plot(freqs / 1e3, np.abs(signal_spectrum[:,0]), '-', color='blue', animated = True, linewidth=1)\n",
    "ax.plot(freqs / 1e3, np.abs(signal_spectrum[:,1]), '-', color='red', animated = True, linewidth=1)\n",
    "ax.plot(freqs / 1e3, np.abs(signal_spectrum[:,2]), '-', color='green', animated = True, linewidth=1)"
   ]
  },
  {
   "cell_type": "markdown",
   "metadata": {},
   "source": [
    "### Phase Spectrum"
   ]
  },
  {
   "cell_type": "code",
   "execution_count": 12,
   "metadata": {},
   "outputs": [
    {
     "data": {
      "text/plain": [
       "[<matplotlib.lines.Line2D at 0x12a02b710>]"
      ]
     },
     "execution_count": 12,
     "metadata": {},
     "output_type": "execute_result"
    }
   ],
   "source": [
    "fig, ax = plt.subplots(num=None, figsize=(14, 6), dpi=80, facecolor='w', edgecolor='k')\n",
    "# in kHz\n",
    "ax.plot(freqs / 1e3, np.angle(signal_spectrum[:,0]), '-', color='blue', animated = True, linewidth=1)\n",
    "ax.plot(freqs / 1e3, np.angle(signal_spectrum[:,1]), '-', color='red', animated = True, linewidth=1)\n",
    "ax.plot(freqs / 1e3, np.angle(signal_spectrum[:,2]), '-', color='green', animated = True, linewidth=1)"
   ]
  },
  {
   "cell_type": "markdown",
   "metadata": {},
   "source": [
    "### Model Building"
   ]
  },
  {
   "cell_type": "code",
   "execution_count": 24,
   "metadata": {},
   "outputs": [],
   "source": [
    "step_radians = 0.01\n",
    "steps_of_history = 10\n",
    "steps_in_future = 5\n",
    "learning_rate = 0.003"
   ]
  },
  {
   "cell_type": "code",
   "execution_count": 25,
   "metadata": {},
   "outputs": [],
   "source": [
    "def getData(x):\n",
    "    seq = []\n",
    "    next_val = []\n",
    "    for i in range(0, len(x) - steps_of_history - steps_in_future, steps_in_future):\n",
    "        seq.append(x[i: i + steps_of_history])\n",
    "        next_val.append(x[i + steps_of_history + steps_in_future -1])\n",
    "    \n",
    "    seq = np.reshape(seq, [-1, steps_of_history, 1])\n",
    "    next_val = np.reshape(next_val, [-1, 1])\n",
    "    X = np.array(seq)\n",
    "    Y = np.array(next_val)\n",
    "    return X,Y"
   ]
  },
  {
   "cell_type": "code",
   "execution_count": 26,
   "metadata": {},
   "outputs": [],
   "source": [
    "from EUNN import EUNNCell\n",
    "def myRNN(activator,optimizer):\n",
    "    \n",
    "    tf.reset_default_graph()\n",
    "    # Network building\n",
    "    net = tflearn.input_data(shape=[None, steps_of_history, 1])\n",
    "    net = tflearn.lstm(net, 32, dropout=0.8,bias=True)\n",
    "    net = tflearn.fully_connected(net, 1, activation=activator)\n",
    "    net = tflearn.regression(net, optimizer=optimizer, loss='mean_square', learning_rate=learning_rate)\n",
    "\n",
    "    \n",
    "    # Training Data\n",
    "    _data_train = simulate(time_points, x0, 0)\n",
    "    _complex_data_train = _data_train*np.exp(1j*np.sin(0.01))\n",
    "    trainVal = _complex_data_train[:,0]\n",
    "    trainX,trainY = getData(trainVal)\n",
    "    print(np.shape(trainX))\n",
    "    \n",
    "    # Training\n",
    "    model = tflearn.DNN(net)\n",
    "    model.fit(trainX, trainY, n_epoch=10, validation_set=0.1, batch_size=128)\n",
    "    \n",
    "    # Testing Data\n",
    "    testVal = _complex_data_train[:,0]\n",
    "    testX,testY = getData(testVal)\n",
    "    \n",
    "    # Predict the future values\n",
    "    predictY = model.predict(testX)\n",
    "    \n",
    "    print(\"---------TEST ERROR-----------\")\n",
    "    expected = np.array(testY).flatten()\n",
    "    predicted = np.array(predictY).flatten()\n",
    "    error = sum(((expected - predicted) **2)/len(expected))\n",
    "    print(error)\n",
    "    # Plot and save figure\n",
    "    plotFig(testY, np.array(predictY).flatten(), error, activator+\"_\"+optimizer)"
   ]
  },
  {
   "cell_type": "code",
   "execution_count": 27,
   "metadata": {},
   "outputs": [],
   "source": [
    "def plotFig(actual,predicted,error,filename):\n",
    "    # Plot the results\n",
    "    plt.figure(figsize=(20,4))\n",
    "    plt.suptitle('Prediction')\n",
    "    plt.title('History = '+str(steps_of_history)+', Future = '+str(steps_in_future)+', Error= '+str(error*100)+'%')\n",
    "    plt.plot(actual.imag, 'r-', label='Expected')\n",
    "    plt.plot(predicted.imag, 'g.', label='Predicted')\n",
    "    plt.legend()\n",
    "    plt.savefig('plots_complex/imag/'+filename+'.png')"
   ]
  },
  {
   "cell_type": "code",
   "execution_count": 28,
   "metadata": {},
   "outputs": [
    {
     "name": "stdout",
     "output_type": "stream",
     "text": [
      "Training Step: 39  | total loss: \u001b[1m\u001b[32m47.56674\u001b[0m\u001b[0m | time: 0.019s\n",
      "| Adam | epoch: 010 | loss: 47.56674 -- iter: 384/447\n",
      "Training Step: 40  | total loss: \u001b[1m\u001b[32m46.22605\u001b[0m\u001b[0m | time: 1.029s\n",
      "| Adam | epoch: 010 | loss: 46.22605 | val_loss: 47.40422 -- iter: 447/447\n",
      "--\n",
      "---------TEST ERROR-----------\n",
      "(40.19043465765056+0.9575091258264021j)\n"
     ]
    }
   ],
   "source": [
    "activators = ['tanh', 'softmax','relu', 'relu6', 'leaky_relu', 'prelu', 'elu']\n",
    "optimizers = ['sgd', 'rmsprop', 'adam']\n",
    "for activator in activators:    \n",
    "    for optimizer in optimizers:\n",
    "        print (\"Running for : \"+ activator + \" & \" + optimizer)\n",
    "        myRNN(activator, optimizer)"
   ]
  },
  {
   "cell_type": "code",
   "execution_count": null,
   "metadata": {},
   "outputs": [],
   "source": []
  }
 ],
 "metadata": {
  "kernelspec": {
   "display_name": "Python 3",
   "language": "python",
   "name": "python3"
  },
  "language_info": {
   "codemirror_mode": {
    "name": "ipython",
    "version": 3
   },
   "file_extension": ".py",
   "mimetype": "text/x-python",
   "name": "python",
   "nbconvert_exporter": "python",
   "pygments_lexer": "ipython3",
   "version": "3.6.4"
  }
 },
 "nbformat": 4,
 "nbformat_minor": 2
}
